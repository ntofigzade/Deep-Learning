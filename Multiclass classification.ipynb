{
 "cells": [
  {
   "cell_type": "code",
   "execution_count": 1,
   "metadata": {},
   "outputs": [],
   "source": [
    "import numpy as np\n",
    "import matplotlib.pyplot as plt\n",
    "import tensorflow as tf\n",
    "from tensorflow import keras"
   ]
  },
  {
   "cell_type": "code",
   "execution_count": 2,
   "metadata": {},
   "outputs": [],
   "source": [
    "def relu(Z):\n",
    "    \"\"\"Implements the RELU activation elementwise.\n",
    "\n",
    "    Args:\n",
    "        Z: Numpy array of arbitrary shape.\n",
    "\n",
    "    Returns:\n",
    "        A: Output of RELU function given Z.\n",
    "    \"\"\"\n",
    "    \n",
    "    A = np.maximum(0, Z)\n",
    "    \n",
    "    return A\n",
    "\n",
    "def relu_gradient(Z):\n",
    "    \"\"\"Computes the gradient of the RELU activation.\n",
    "\n",
    "    Args:\n",
    "        Z: Numpy array of arbitrary shape.\n",
    "        \n",
    "    Returns:\n",
    "        dz: Gradient of the RELU function with respect to Z.\n",
    "    \"\"\"\n",
    "    \n",
    "    dz = np.zeros((Z.shape))\n",
    "    dz[Z > 0] = 1\n",
    "    \n",
    "    return dz\n",
    "\n",
    "def softmax(Z):\n",
    "    \"\"\"Computes the softmax function for each column of Z.\n",
    "    \n",
    "    Args:\n",
    "        Z: Numpy array of arbitrary shape.\n",
    "    \n",
    "    Returns:\n",
    "        S: Output of the softmax function given Z.\n",
    "    \"\"\"\n",
    "    Z_exp = np.exp(Z)\n",
    "    Z_column_sum = np.sum(Z_exp, axis=0, keepdims=True)\n",
    "    S = Z_exp/Z_column_sum\n",
    "    \n",
    "    return S\n",
    "\n",
    "def one_hot_encoding(Y, C):\n",
    "    \"\"\"Implements one hot encoding to label vector.\n",
    "    \n",
    "    Args:\n",
    "        Y: Label vector of shape (number of classes, number of examples). \n",
    "        C: Number of labels to classify.\n",
    "        \n",
    "    Returns:\n",
    "        e: One hot encoding of label vector.\n",
    "    \"\"\"\n",
    "    e = np.zeros((Y.size, C))\n",
    "    e[np.arange(Y.size), Y] = 1\n",
    "    e = e.T\n",
    "    \n",
    "    return e"
   ]
  },
  {
   "cell_type": "code",
   "execution_count": 3,
   "metadata": {},
   "outputs": [],
   "source": [
    "def init_params(layer_sizes):\n",
    "    \"\"\"Initializes weight and bias parameters for each network layer.\n",
    "    \n",
    "    Args:\n",
    "        layer_sizes: A list containing the size of each network layer.\n",
    "        \n",
    "    Returns:\n",
    "        params: A dict mapping keys to the corresponding network parameters.\n",
    "    \"\"\"\n",
    "    \n",
    "    params = dict()\n",
    "    L = len(layer_sizes) # number of layers including input layer\n",
    "    \n",
    "    for l in range(1, L):\n",
    "        params['W' + str(l)] = np.random.randn(layer_sizes[l], layer_sizes[l - 1]) / np.sqrt(layer_sizes[l - 1])  # weight matrix\n",
    "        params['b' + str(l)] = np.zeros((layer_sizes[l], 1)) # bias vector\n",
    "    \n",
    "    return params"
   ]
  },
  {
   "cell_type": "code",
   "execution_count": 4,
   "metadata": {},
   "outputs": [],
   "source": [
    "def forw_prop_l(W, A_prev, b, activation):\n",
    "    \"\"\"Implements the forward propagation computation for layer l.\n",
    "    \n",
    "    Args:\n",
    "        W: Weight matrix of current layer with dimension (size of current layer, size of previous layer).\n",
    "        A_prev: Activation matrix of previous layer with dimension (size of previous layer, number of examples) ).\n",
    "        b: Bias vector of current layer with dimension (size of current layer, 1).\n",
    "        activation: Activation function. \n",
    "    \n",
    "    Returns:\n",
    "        A: Output of the activation function.\n",
    "        cache: A tuple containing 'W', 'A_prev', 'b' and 'Z' to be used for the backward propagation.\n",
    "    \"\"\"\n",
    "    \n",
    "    Z = np.dot(W, A_prev) + b # computes pre-activation parameter Z\n",
    "    A = activation(Z)\n",
    "    cache = (W, A_prev, b, Z)\n",
    "    \n",
    "    return A, cache"
   ]
  },
  {
   "cell_type": "code",
   "execution_count": 5,
   "metadata": {},
   "outputs": [],
   "source": [
    "def forward_propagation(params, X, activation_hidden, activation_output):\n",
    "    \"\"\"Implements the forward propagation computation for the network and outputs predictions vector.\n",
    "    \n",
    "    Args:\n",
    "        X: Data of dimension (number of input features, number of examples)\n",
    "        params: A dict mapping keys to the corresponding network parameters.\n",
    "        \n",
    "    Returns:\n",
    "        A: Output of the activation function of the output layer.\n",
    "        caches: A list of caches containing every cache of forw_prop_l function.\n",
    "    \"\"\"\n",
    "    \n",
    "    L = len(params) // 2 # number of layers in the network excluding input layer\n",
    "    A = X\n",
    "    caches = []\n",
    "    \n",
    "    for l in range(1, L + 1):\n",
    "        A, cache = forw_prop_l(params['W' + str(l)], A, params['b' + str(l)], activation_output if l == L else activation_hidden)\n",
    "        caches.append(cache)\n",
    "        \n",
    "    return A, caches"
   ]
  },
  {
   "cell_type": "code",
   "execution_count": 6,
   "metadata": {},
   "outputs": [],
   "source": [
    "def cross_entropy_cost(Y_hat, Y):\n",
    "    \"\"\"Implements the cross-entropy cost function.\n",
    "    \n",
    "    Args:\n",
    "        Y_hat: Probability vector corresponding to class predictions of shape (number of classes, number of examples).\n",
    "        Y: Ground truth vector of shape (number of classes, number of examples).\n",
    "        \n",
    "    Returns:\n",
    "        cost: Cross-entropy cost.\n",
    "    \"\"\"\n",
    "    \n",
    "    m = Y.shape[1] # number of examples\n",
    "    \n",
    "    cost = -np.sum(np.multiply(Y, np.log(Y_hat)))\n",
    "    cost = np.squeeze(cost) # transform the cost from the shape of an array into the shape of a scalar\n",
    "    \n",
    "    return cost"
   ]
  },
  {
   "cell_type": "code",
   "execution_count": 7,
   "metadata": {},
   "outputs": [],
   "source": [
    "def backw_prop(cache, dA, activation_backward):\n",
    "    \"\"\"Implements the backward propagation computation for layer l.\n",
    "    \n",
    "    Args:\n",
    "        cache: The cache output (W, A_prev, b, Z) of forw_prop function called for current layer l.\n",
    "        dA: Gradient of the cost with respect to the activation of current layer l.\n",
    "        activation_backward: A function computing the gradient of activation function with respect to its input.\n",
    "        \n",
    "    Returns: \n",
    "        dA_prev: Gradient of the cost with respect to the activation of the previous layer.\n",
    "        dW: Gradient of the cost with respect to weight parameter of current layer l.\n",
    "        db: Gradient of the cost with respect to bias parameter of current layer l.\n",
    "    \"\"\"\n",
    "    \n",
    "    W, A_prev, b, Z = cache\n",
    "    m = A_prev.shape[1]\n",
    "    \n",
    "    dZ = dA * activation_backward(Z)\n",
    "    dA_prev = np.dot(W.T, dZ)\n",
    "    dW = (1/m) * np.dot(dZ, A_prev.T)\n",
    "    db = (1/m) * np.sum(dZ, axis=1, keepdims=True)\n",
    "    \n",
    "    return dA_prev, dW, db"
   ]
  },
  {
   "cell_type": "code",
   "execution_count": 8,
   "metadata": {},
   "outputs": [],
   "source": [
    "def backward_propagation(caches, Y_hat, Y, hidden_activation_backward):\n",
    "    \"\"\"Implements the backward propagation computation for the network.\n",
    "    \n",
    "    Args:\n",
    "        caches: A list of caches which are the outputs of forw_prop functions for every layer l.\n",
    "        Y_hat: Probability vector corresponding to class predictions of shape (number of classes, number of examples).\n",
    "        Y: Ground truth matrix of shape (number of classes, number of examples).\n",
    "        \n",
    "    Returns:\n",
    "        grads: A dict mapping keys to the corresponding gradients of the network.\n",
    "    \"\"\"\n",
    "    \n",
    "    grads = dict()\n",
    "    m = Y.shape[1]\n",
    "    L = len(caches) # number of layers excluding input layer\n",
    "    Y.reshape(Y_hat.shape)\n",
    "    \n",
    "    # computes gradient of the cost with respect to Y_hat to initialize backward propagation.\n",
    "    W, A_prev, b, Z = caches[L - 1]\n",
    "    dZ = Y_hat - Y\n",
    "    dA_prev = np.dot(W.T, dZ)\n",
    "    dW = (1/m) * np.dot(dZ, A_prev.T)\n",
    "    db = (1/m) * np.sum(dZ, axis=1, keepdims=True)\n",
    "    grads[\"dA\" + str(L - 1)], grads[\"dW\" + str(L)], grads[\"db\" + str(L)] = dA_prev, dW, db\n",
    "    \n",
    "    for l in reversed(range(L - 1)):\n",
    "        cache_current = caches[l]\n",
    "        gradients = backw_prop(cache_current, grads[\"dA\" + str(l + 1)], hidden_activation_backward)\n",
    "        (grads[\"dA\" + str(l)], grads[\"dW\" + str(l + 1)], grads[\"db\" + str(l + 1)]) = gradients\n",
    "                                                              \n",
    "    return grads"
   ]
  },
  {
   "cell_type": "code",
   "execution_count": 9,
   "metadata": {},
   "outputs": [],
   "source": [
    "def update_params(params, grads, alpha):\n",
    "    \"\"\"Updates network parameters using gradient descent algorithm.\n",
    "    \n",
    "    Args:\n",
    "        params: A dict mapping keys to the corresponding network parameters.\n",
    "        grads: A dict mapping keys to the corresponding gradients of the network.\n",
    "        alpha: Learning rate of the gradient descent algorithm.\n",
    "        \n",
    "    Returns:\n",
    "        params: A dict mapping keys to the corresponding updated network parameters.\n",
    "    \"\"\"\n",
    "    \n",
    "    L = len(params) // 2 # number of layers excluding input layer\n",
    "    \n",
    "    for l in range(L):\n",
    "        params['W' + str(l + 1)] = params['W' + str(l + 1)] - alpha * grads['dW' + str(l + 1)]\n",
    "        params['b' + str(l+1)] = params['b' + str(l + 1)] - alpha * grads['db' + str(l + 1)]\n",
    "        \n",
    "    return params\n"
   ]
  },
  {
   "cell_type": "code",
   "execution_count": 10,
   "metadata": {},
   "outputs": [],
   "source": [
    "def flatten(data):\n",
    "    \"\"\" Flattens a multi-dimensional array except its first dimension corresponding to number of example.\"\"\" \n",
    "    \n",
    "    return data.reshape(data.shape[0], -1)"
   ]
  },
  {
   "cell_type": "code",
   "execution_count": 11,
   "metadata": {},
   "outputs": [],
   "source": [
    "(X_train, Y_train), (X_test, Y_test) = keras.datasets.mnist.load_data()"
   ]
  },
  {
   "cell_type": "code",
   "execution_count": 12,
   "metadata": {},
   "outputs": [],
   "source": [
    "X_train = flatten(X_train) / 255\n",
    "X_test = flatten(X_test) / 255\n",
    "layer_sizes = [784, 256, 10]"
   ]
  },
  {
   "cell_type": "code",
   "execution_count": 13,
   "metadata": {},
   "outputs": [],
   "source": [
    "def mini_batches(X, Y, mini_batch_size = 128):\n",
    "    \"\"\"Creates a list of random minibatches from (X, Y).\n",
    "    \n",
    "    Args:\n",
    "        X: Input data of shape (number of input features, number of examples).\n",
    "        Y: Ground truth vector of shape (1, number of examples).\n",
    "        mini_batch_size: Size of mini-batches.\n",
    "    \n",
    "    Returns:\n",
    "        mini_batches: A list of mini-batches.\n",
    "    \"\"\"\n",
    "    \n",
    "    m = X.shape[1] # number of training examples\n",
    "    mini_batches = []\n",
    "        \n",
    "    # shuffles (X, Y)\n",
    "    permute = np.random.permutation(m)\n",
    "    X, Y = X[:, permute], Y[:, permute]\n",
    "    Y = Y\n",
    "    \n",
    "    # partition (X, Y)\n",
    "    n = m // mini_batch_size # number of mini batches of size mini_batch_size \n",
    "    for k in range(n):\n",
    "        mini_batch_X = X[:, k * mini_batch_size : (k + 1) * mini_batch_size]\n",
    "        mini_batch_Y = Y[:, k * mini_batch_size : (k + 1) * mini_batch_size]\n",
    "        mini_batches.append((mini_batch_X, mini_batch_Y))\n",
    "    \n",
    "    if m % mini_batch_size:\n",
    "        mini_batch_X = X[:, n * mini_batch_size :]\n",
    "        mini_batch_Y = Y[:, n * mini_batch_size :]\n",
    "        mini_batches.append((mini_batch_X, mini_batch_Y))\n",
    "    \n",
    "    return mini_batches"
   ]
  },
  {
   "cell_type": "code",
   "execution_count": 14,
   "metadata": {},
   "outputs": [],
   "source": [
    "def predict(X, Y, params):\n",
    "    \"\"\"Implements forward propagation on a test set and makes predictions.\n",
    "    \n",
    "    Args:\n",
    "        X: Data of shape (number of input features, number of examples)\n",
    "        Y: Ground truth vector of shape (1, number of examples)\n",
    "        params: Network parameters learnt by the model.\n",
    "    \n",
    "    Returns:\n",
    "        accuracy: An amount of correct predictions as percentage.\n",
    "        predicted: A vector of predicted labels of shape (1, number of examples).\n",
    "    \"\"\"\n",
    "    \n",
    "    m = X.shape[1]\n",
    "    A, caches = forward_propagation(params, X, relu, softmax)\n",
    "    \n",
    "    predicted = np.argmax(A, axis=0).reshape(Y.shape)\n",
    "    \n",
    "    accuracy = np.mean(predicted == Y)\n",
    "    \n",
    "    return accuracy, predicted"
   ]
  },
  {
   "cell_type": "code",
   "execution_count": 15,
   "metadata": {
    "scrolled": true
   },
   "outputs": [],
   "source": [
    "def model(X, Y, layer_sizes, mini_batch_size = 64, alpha = 0.01, epochs = 10):\n",
    "    \"\"\"Implements a deep neural network.\n",
    "    \n",
    "    Args:\n",
    "        X: Data of shape (number of input features, number of examples)\n",
    "        Y: Ground truth vector of shape (1, number of examples)\n",
    "        layer_sizes: A list containing the size of each network layer.\n",
    "        alpha: Learning rate of the gradient descent algorithm.\n",
    "        epochs: Number of passes through whole training data\n",
    "        \n",
    "    Returns:\n",
    "        params: Network parameters learnt by the model.\n",
    "    \"\"\"\n",
    "    \n",
    "    X = X.T # stacks examples in columns\n",
    "    m = X.shape[1]\n",
    "    Y = Y.reshape(1, m)\n",
    "    costs = []\n",
    "    \n",
    "    params = init_params(layer_sizes)\n",
    "    \n",
    "    for epoch in range(epochs):\n",
    "        \n",
    "        minibatches = mini_batches(X, Y, mini_batch_size)\n",
    "        total_cost = 0\n",
    "        \n",
    "        for minibatch in minibatches:\n",
    "            minibatch_X, minibatch_Y = minibatch\n",
    "            minibatch_Y = one_hot_encoding(minibatch_Y, 10)\n",
    "            \n",
    "            Y_hat, caches = forward_propagation(params, minibatch_X, relu, softmax)\n",
    "            total_cost += cross_entropy_cost(Y_hat, minibatch_Y)\n",
    "            grads = backward_propagation(caches, Y_hat, minibatch_Y, relu_gradient)\n",
    "            params = update_params(params, grads, alpha)\n",
    "        \n",
    "        cost = total_cost / m\n",
    "        accuracy, prediction = predict(X, Y, params)\n",
    "        if epoch % 1 == 0:\n",
    "            print (\"Cost and Accuracy after iteration %i: %f, %a\" %(epoch, cost, accuracy))\n",
    "            costs.append(cost)\n",
    "    \n",
    "    plt.plot(np.squeeze(costs))\n",
    "    plt.ylabel('cost')\n",
    "    plt.xlabel('iterations (per hundreds)')\n",
    "    plt.title(\"Learning rate =\" + str(alpha))\n",
    "    plt.show()\n",
    "    \n",
    "    return params"
   ]
  },
  {
   "cell_type": "code",
   "execution_count": 16,
   "metadata": {
    "scrolled": false
   },
   "outputs": [
    {
     "name": "stdout",
     "output_type": "stream",
     "text": [
      "Cost and Accuracy after iteration 0: 0.959202, 0.87605\n",
      "Cost and Accuracy after iteration 1: 0.436222, 0.89545\n",
      "Cost and Accuracy after iteration 2: 0.363927, 0.9055833333333333\n",
      "Cost and Accuracy after iteration 3: 0.329493, 0.9110333333333334\n",
      "Cost and Accuracy after iteration 4: 0.306140, 0.9172333333333333\n",
      "Cost and Accuracy after iteration 5: 0.288342, 0.9223166666666667\n",
      "Cost and Accuracy after iteration 6: 0.273574, 0.9261833333333334\n",
      "Cost and Accuracy after iteration 7: 0.260640, 0.9296666666666666\n",
      "Cost and Accuracy after iteration 8: 0.248898, 0.9325166666666667\n",
      "Cost and Accuracy after iteration 9: 0.238337, 0.9356\n"
     ]
    },
    {
     "data": {
      "image/png": "[encoded data removed]",
      "text/plain": [
       "<Figure size 432x288 with 1 Axes>"
      ]
     },
     "metadata": {
      "needs_background": "light"
     },
     "output_type": "display_data"
    }
   ],
   "source": [
    "params = model(X_train, Y_train, layer_sizes)"
   ]
  },
  {
   "cell_type": "code",
   "execution_count": 17,
   "metadata": {},
   "outputs": [
    {
     "data": {
      "text/plain": [
       "(0.9352, array([[7, 2, 1, ..., 4, 5, 6]]))"
      ]
     },
     "execution_count": 17,
     "metadata": {},
     "output_type": "execute_result"
    }
   ],
   "source": [
    "predict(X_test.T, Y_test.reshape(1, Y_test.size), params)"
   ]
  }
 ],
 "metadata": {
  "kernelspec": {
   "display_name": "Python 3",
   "language": "python",
   "name": "python3"
  },
  "language_info": {
   "codemirror_mode": {
    "name": "ipython",
    "version": 3
   },
   "file_extension": ".py",
   "mimetype": "text/x-python",
   "name": "python",
   "nbconvert_exporter": "python",
   "pygments_lexer": "ipython3",
   "version": "3.7.4"
  }
 },
 "nbformat": 4,
 "nbformat_minor": 2
}
